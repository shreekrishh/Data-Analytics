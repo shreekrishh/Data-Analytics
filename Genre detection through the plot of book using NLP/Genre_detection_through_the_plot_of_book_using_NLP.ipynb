{
  "nbformat": 4,
  "nbformat_minor": 0,
  "metadata": {
    "colab": {
      "name": "Genre detection through the plot of book using NLP.ipynb",
      "provenance": [],
      "collapsed_sections": [],
      "include_colab_link": true
    },
    "kernelspec": {
      "name": "python3",
      "display_name": "Python 3"
    },
    "language_info": {
      "name": "python"
    }
  },
  "cells": [
    {
      "cell_type": "markdown",
      "metadata": {
        "id": "view-in-github",
        "colab_type": "text"
      },
      "source": [
        "<a href=\"https://colab.research.google.com/github/shreekrishh/Data-Analytics/blob/main/Genre%20detection%20through%20the%20plot%20of%20book%20using%20NLP/Genre_detection_through_the_plot_of_book_using_NLP.ipynb\" target=\"_parent\"><img src=\"https://colab.research.google.com/assets/colab-badge.svg\" alt=\"Open In Colab\"/></a>"
      ]
    },
    {
      "cell_type": "code",
      "metadata": {
        "id": "_IPiPoPmRc0W"
      },
      "source": [
        "import json\n",
        "import numpy as np\n",
        "import pandas as pd\n",
        "import nltk\n",
        "import re\n",
        "from nltk.corpus import stopwords\n",
        "from nltk.tokenize import word_tokenize\n",
        "import sklearn\n",
        "\n"
      ],
      "execution_count": null,
      "outputs": []
    },
    {
      "cell_type": "code",
      "metadata": {
        "colab": {
          "base_uri": "https://localhost:8080/"
        },
        "id": "8lh87wuXaoQD",
        "outputId": "3fa037c4-b7a9-40e5-f2b0-f2df623db8f1"
      },
      "source": [
        "from google.colab import drive\n",
        "drive.mount('/content/drive', force_remount=True)"
      ],
      "execution_count": null,
      "outputs": [
        {
          "output_type": "stream",
          "name": "stdout",
          "text": [
            "Mounted at /content/drive\n"
          ]
        }
      ]
    },
    {
      "cell_type": "code",
      "metadata": {
        "id": "GX0UxUA6UGeu"
      },
      "source": [
        "# load the training data\n",
        "\n",
        "train_data = json.load(open(\"/content/drive/MyDrive/ak-as2-15-1/4650/comp4650-A2/Q2/genre_train.json\", \"r\"))\n",
        "# train_data = json.load(open(\"/content/drive/MyDrive/comp4650-A2/Q2/genre_train.json\", \"r\"))\n"
      ],
      "execution_count": null,
      "outputs": []
    },
    {
      "cell_type": "code",
      "metadata": {
        "id": "yQYhsHplUPs4"
      },
      "source": [
        "X = train_data['X']\n",
        "Y = train_data['Y'] # id mapping: 0 - Horror, 1 - Science Fiction, 2 - Humor, 3 - Crime Fiction\n",
        "docid = train_data['docid'] # these are the ids of the books which each training example came from\n",
        "\n",
        "# load the test data\n",
        "# the test data does not have labels, our model needs to generate these\n",
        "test_data = json.load(open(\"/content/drive/MyDrive/ak-as2-15-1/4650/comp4650-A2/Q2/genre_test.json\", \"r\"))\n",
        "# test_data = json.load(open(\"/content/drive/MyDrive/comp4650-A2/Q2/genre_test.json\", \"r\"))\n",
        "\n",
        "Xt = test_data['X']\n"
      ],
      "execution_count": null,
      "outputs": []
    },
    {
      "cell_type": "code",
      "metadata": {
        "colab": {
          "base_uri": "https://localhost:8080/",
          "height": 423
        },
        "id": "LiTRjTm3ziEk",
        "outputId": "49f02be5-87ed-4e56-e39e-85694b53276a"
      },
      "source": [
        "df = pd.DataFrame(list(zip(X, Y,docid)),\n",
        "               columns =['plot', 'genre','Book ID'])\n",
        "df"
      ],
      "execution_count": null,
      "outputs": [
        {
          "output_type": "execute_result",
          "data": {
            "text/html": [
              "<div>\n",
              "<style scoped>\n",
              "    .dataframe tbody tr th:only-of-type {\n",
              "        vertical-align: middle;\n",
              "    }\n",
              "\n",
              "    .dataframe tbody tr th {\n",
              "        vertical-align: top;\n",
              "    }\n",
              "\n",
              "    .dataframe thead th {\n",
              "        text-align: right;\n",
              "    }\n",
              "</style>\n",
              "<table border=\"1\" class=\"dataframe\">\n",
              "  <thead>\n",
              "    <tr style=\"text-align: right;\">\n",
              "      <th></th>\n",
              "      <th>plot</th>\n",
              "      <th>genre</th>\n",
              "      <th>Book ID</th>\n",
              "    </tr>\n",
              "  </thead>\n",
              "  <tbody>\n",
              "    <tr>\n",
              "      <th>0</th>\n",
              "      <td>\"Go right in there.\" He gaped at my arm when t...</td>\n",
              "      <td>1</td>\n",
              "      <td>1212</td>\n",
              "    </tr>\n",
              "    <tr>\n",
              "      <th>1</th>\n",
              "      <td>\"He'll have it. In writing, if he wishes.\" \"Ye...</td>\n",
              "      <td>1</td>\n",
              "      <td>580</td>\n",
              "    </tr>\n",
              "    <tr>\n",
              "      <th>2</th>\n",
              "      <td>\"What we call Unit Eight--the heart of the dri...</td>\n",
              "      <td>1</td>\n",
              "      <td>259</td>\n",
              "    </tr>\n",
              "    <tr>\n",
              "      <th>3</th>\n",
              "      <td>\"Excuse me,\" he said, \"I think--\"\\n\\n\"Thank yo...</td>\n",
              "      <td>2</td>\n",
              "      <td>869</td>\n",
              "    </tr>\n",
              "    <tr>\n",
              "      <th>4</th>\n",
              "      <td>\"Well, moderately so, Barncastle, moderately s...</td>\n",
              "      <td>2</td>\n",
              "      <td>399</td>\n",
              "    </tr>\n",
              "    <tr>\n",
              "      <th>...</th>\n",
              "      <td>...</td>\n",
              "      <td>...</td>\n",
              "      <td>...</td>\n",
              "    </tr>\n",
              "    <tr>\n",
              "      <th>6738</th>\n",
              "      <td>\"They made it,\" he muttered. \"Both of them. Go...</td>\n",
              "      <td>1</td>\n",
              "      <td>938</td>\n",
              "    </tr>\n",
              "    <tr>\n",
              "      <th>6739</th>\n",
              "      <td>Perhaps he had come to murder me, as you surmi...</td>\n",
              "      <td>3</td>\n",
              "      <td>1085</td>\n",
              "    </tr>\n",
              "    <tr>\n",
              "      <th>6740</th>\n",
              "      <td>Bruce listened to the wind. It seemed to rise ...</td>\n",
              "      <td>1</td>\n",
              "      <td>440</td>\n",
              "    </tr>\n",
              "    <tr>\n",
              "      <th>6741</th>\n",
              "      <td>Swift fleeting batlike shapes would appear\\nfr...</td>\n",
              "      <td>1</td>\n",
              "      <td>261</td>\n",
              "    </tr>\n",
              "    <tr>\n",
              "      <th>6742</th>\n",
              "      <td>Mildume shrugged. There was an abrupt, high-pi...</td>\n",
              "      <td>1</td>\n",
              "      <td>1345</td>\n",
              "    </tr>\n",
              "  </tbody>\n",
              "</table>\n",
              "<p>6743 rows × 3 columns</p>\n",
              "</div>"
            ],
            "text/plain": [
              "                                                   plot  genre  Book ID\n",
              "0     \"Go right in there.\" He gaped at my arm when t...      1     1212\n",
              "1     \"He'll have it. In writing, if he wishes.\" \"Ye...      1      580\n",
              "2     \"What we call Unit Eight--the heart of the dri...      1      259\n",
              "3     \"Excuse me,\" he said, \"I think--\"\\n\\n\"Thank yo...      2      869\n",
              "4     \"Well, moderately so, Barncastle, moderately s...      2      399\n",
              "...                                                 ...    ...      ...\n",
              "6738  \"They made it,\" he muttered. \"Both of them. Go...      1      938\n",
              "6739  Perhaps he had come to murder me, as you surmi...      3     1085\n",
              "6740  Bruce listened to the wind. It seemed to rise ...      1      440\n",
              "6741  Swift fleeting batlike shapes would appear\\nfr...      1      261\n",
              "6742  Mildume shrugged. There was an abrupt, high-pi...      1     1345\n",
              "\n",
              "[6743 rows x 3 columns]"
            ]
          },
          "metadata": {},
          "execution_count": 6
        }
      ]
    },
    {
      "cell_type": "code",
      "metadata": {
        "colab": {
          "base_uri": "https://localhost:8080/",
          "height": 423
        },
        "id": "Hp4J7hAE9kGF",
        "outputId": "85d08446-4ab2-4f78-fce0-892396ff9364"
      },
      "source": [
        "df_y = pd.DataFrame(list(zip(Xt)),\n",
        "               columns =['plot'])\n",
        "df_y"
      ],
      "execution_count": null,
      "outputs": [
        {
          "output_type": "execute_result",
          "data": {
            "text/html": [
              "<div>\n",
              "<style scoped>\n",
              "    .dataframe tbody tr th:only-of-type {\n",
              "        vertical-align: middle;\n",
              "    }\n",
              "\n",
              "    .dataframe tbody tr th {\n",
              "        vertical-align: top;\n",
              "    }\n",
              "\n",
              "    .dataframe thead th {\n",
              "        text-align: right;\n",
              "    }\n",
              "</style>\n",
              "<table border=\"1\" class=\"dataframe\">\n",
              "  <thead>\n",
              "    <tr style=\"text-align: right;\">\n",
              "      <th></th>\n",
              "      <th>plot</th>\n",
              "    </tr>\n",
              "  </thead>\n",
              "  <tbody>\n",
              "    <tr>\n",
              "      <th>0</th>\n",
              "      <td>It was too awful. I never thought, never for a...</td>\n",
              "    </tr>\n",
              "    <tr>\n",
              "      <th>1</th>\n",
              "      <td>A cold\\nwind blew across the road leading up t...</td>\n",
              "    </tr>\n",
              "    <tr>\n",
              "      <th>2</th>\n",
              "      <td>\"That is the Archangel\\nMichael overcoming Sat...</td>\n",
              "    </tr>\n",
              "    <tr>\n",
              "      <th>3</th>\n",
              "      <td>Longer plumes of changeable\\ncolours radiated ...</td>\n",
              "    </tr>\n",
              "    <tr>\n",
              "      <th>4</th>\n",
              "      <td>\"What it should be. It checks.\" Tom whooped an...</td>\n",
              "    </tr>\n",
              "    <tr>\n",
              "      <th>...</th>\n",
              "      <td>...</td>\n",
              "    </tr>\n",
              "    <tr>\n",
              "      <th>47178</th>\n",
              "      <td>\"Roger, it'd take a man two weeks to go from o...</td>\n",
              "    </tr>\n",
              "    <tr>\n",
              "      <th>47179</th>\n",
              "      <td>\"How is he--awake?\" \"About the same--still unc...</td>\n",
              "    </tr>\n",
              "    <tr>\n",
              "      <th>47180</th>\n",
              "      <td>\"Yes, brother,\" Volna said softly. \"They do. O...</td>\n",
              "    </tr>\n",
              "    <tr>\n",
              "      <th>47181</th>\n",
              "      <td>she snapped as her breath came back. \"Beat it!...</td>\n",
              "    </tr>\n",
              "    <tr>\n",
              "      <th>47182</th>\n",
              "      <td>Nevertheless,\\nthe lesson is not without its v...</td>\n",
              "    </tr>\n",
              "  </tbody>\n",
              "</table>\n",
              "<p>47183 rows × 1 columns</p>\n",
              "</div>"
            ],
            "text/plain": [
              "                                                    plot\n",
              "0      It was too awful. I never thought, never for a...\n",
              "1      A cold\\nwind blew across the road leading up t...\n",
              "2      \"That is the Archangel\\nMichael overcoming Sat...\n",
              "3      Longer plumes of changeable\\ncolours radiated ...\n",
              "4      \"What it should be. It checks.\" Tom whooped an...\n",
              "...                                                  ...\n",
              "47178  \"Roger, it'd take a man two weeks to go from o...\n",
              "47179  \"How is he--awake?\" \"About the same--still unc...\n",
              "47180  \"Yes, brother,\" Volna said softly. \"They do. O...\n",
              "47181  she snapped as her breath came back. \"Beat it!...\n",
              "47182  Nevertheless,\\nthe lesson is not without its v...\n",
              "\n",
              "[47183 rows x 1 columns]"
            ]
          },
          "metadata": {},
          "execution_count": 7
        }
      ]
    },
    {
      "cell_type": "code",
      "metadata": {
        "id": "Rt1j5HHI0UXG"
      },
      "source": [
        "def cleaning(text):\n",
        "    text = re.sub(\"\\'\", \"\", text)\n",
        "    text = re.sub(\"[^a-zA-Z]\",\" \",text)\n",
        "    text = ' '.join(text.split())\n",
        "    text = text.lower()\n",
        "    \n",
        "    return text"
      ],
      "execution_count": null,
      "outputs": []
    },
    {
      "cell_type": "code",
      "metadata": {
        "colab": {
          "base_uri": "https://localhost:8080/"
        },
        "id": "-njFOwAy6q7h",
        "outputId": "2814e03a-5bfd-43fd-b4f4-7a2e3e656fe3"
      },
      "source": [
        "len(df['Book ID'].unique())"
      ],
      "execution_count": null,
      "outputs": [
        {
          "output_type": "execute_result",
          "data": {
            "text/plain": [
              "758"
            ]
          },
          "metadata": {},
          "execution_count": 9
        }
      ]
    },
    {
      "cell_type": "code",
      "metadata": {
        "colab": {
          "base_uri": "https://localhost:8080/",
          "height": 423
        },
        "id": "b1MumVaKEWvF",
        "outputId": "8da61d59-1a05-4436-c395-64de435ecafc"
      },
      "source": [
        "df['clean_plot'] = df['plot'].apply(lambda x: cleaning(x))\n",
        "df\n",
        "\n"
      ],
      "execution_count": null,
      "outputs": [
        {
          "output_type": "execute_result",
          "data": {
            "text/html": [
              "<div>\n",
              "<style scoped>\n",
              "    .dataframe tbody tr th:only-of-type {\n",
              "        vertical-align: middle;\n",
              "    }\n",
              "\n",
              "    .dataframe tbody tr th {\n",
              "        vertical-align: top;\n",
              "    }\n",
              "\n",
              "    .dataframe thead th {\n",
              "        text-align: right;\n",
              "    }\n",
              "</style>\n",
              "<table border=\"1\" class=\"dataframe\">\n",
              "  <thead>\n",
              "    <tr style=\"text-align: right;\">\n",
              "      <th></th>\n",
              "      <th>plot</th>\n",
              "      <th>genre</th>\n",
              "      <th>Book ID</th>\n",
              "      <th>clean_plot</th>\n",
              "    </tr>\n",
              "  </thead>\n",
              "  <tbody>\n",
              "    <tr>\n",
              "      <th>0</th>\n",
              "      <td>\"Go right in there.\" He gaped at my arm when t...</td>\n",
              "      <td>1</td>\n",
              "      <td>1212</td>\n",
              "      <td>go right in there he gaped at my arm when the ...</td>\n",
              "    </tr>\n",
              "    <tr>\n",
              "      <th>1</th>\n",
              "      <td>\"He'll have it. In writing, if he wishes.\" \"Ye...</td>\n",
              "      <td>1</td>\n",
              "      <td>580</td>\n",
              "      <td>hell have it in writing if he wishes yes i ass...</td>\n",
              "    </tr>\n",
              "    <tr>\n",
              "      <th>2</th>\n",
              "      <td>\"What we call Unit Eight--the heart of the dri...</td>\n",
              "      <td>1</td>\n",
              "      <td>259</td>\n",
              "      <td>what we call unit eight the heart of the drive...</td>\n",
              "    </tr>\n",
              "    <tr>\n",
              "      <th>3</th>\n",
              "      <td>\"Excuse me,\" he said, \"I think--\"\\n\\n\"Thank yo...</td>\n",
              "      <td>2</td>\n",
              "      <td>869</td>\n",
              "      <td>excuse me he said i think thank you said the g...</td>\n",
              "    </tr>\n",
              "    <tr>\n",
              "      <th>4</th>\n",
              "      <td>\"Well, moderately so, Barncastle, moderately s...</td>\n",
              "      <td>2</td>\n",
              "      <td>399</td>\n",
              "      <td>well moderately so barncastle moderately so fa...</td>\n",
              "    </tr>\n",
              "    <tr>\n",
              "      <th>...</th>\n",
              "      <td>...</td>\n",
              "      <td>...</td>\n",
              "      <td>...</td>\n",
              "      <td>...</td>\n",
              "    </tr>\n",
              "    <tr>\n",
              "      <th>6738</th>\n",
              "      <td>\"They made it,\" he muttered. \"Both of them. Go...</td>\n",
              "      <td>1</td>\n",
              "      <td>938</td>\n",
              "      <td>they made it he muttered both of them good he ...</td>\n",
              "    </tr>\n",
              "    <tr>\n",
              "      <th>6739</th>\n",
              "      <td>Perhaps he had come to murder me, as you surmi...</td>\n",
              "      <td>3</td>\n",
              "      <td>1085</td>\n",
              "      <td>perhaps he had come to murder me as you surmis...</td>\n",
              "    </tr>\n",
              "    <tr>\n",
              "      <th>6740</th>\n",
              "      <td>Bruce listened to the wind. It seemed to rise ...</td>\n",
              "      <td>1</td>\n",
              "      <td>440</td>\n",
              "      <td>bruce listened to the wind it seemed to rise h...</td>\n",
              "    </tr>\n",
              "    <tr>\n",
              "      <th>6741</th>\n",
              "      <td>Swift fleeting batlike shapes would appear\\nfr...</td>\n",
              "      <td>1</td>\n",
              "      <td>261</td>\n",
              "      <td>swift fleeting batlike shapes would appear fro...</td>\n",
              "    </tr>\n",
              "    <tr>\n",
              "      <th>6742</th>\n",
              "      <td>Mildume shrugged. There was an abrupt, high-pi...</td>\n",
              "      <td>1</td>\n",
              "      <td>1345</td>\n",
              "      <td>mildume shrugged there was an abrupt high pitc...</td>\n",
              "    </tr>\n",
              "  </tbody>\n",
              "</table>\n",
              "<p>6743 rows × 4 columns</p>\n",
              "</div>"
            ],
            "text/plain": [
              "                                                   plot  ...                                         clean_plot\n",
              "0     \"Go right in there.\" He gaped at my arm when t...  ...  go right in there he gaped at my arm when the ...\n",
              "1     \"He'll have it. In writing, if he wishes.\" \"Ye...  ...  hell have it in writing if he wishes yes i ass...\n",
              "2     \"What we call Unit Eight--the heart of the dri...  ...  what we call unit eight the heart of the drive...\n",
              "3     \"Excuse me,\" he said, \"I think--\"\\n\\n\"Thank yo...  ...  excuse me he said i think thank you said the g...\n",
              "4     \"Well, moderately so, Barncastle, moderately s...  ...  well moderately so barncastle moderately so fa...\n",
              "...                                                 ...  ...                                                ...\n",
              "6738  \"They made it,\" he muttered. \"Both of them. Go...  ...  they made it he muttered both of them good he ...\n",
              "6739  Perhaps he had come to murder me, as you surmi...  ...  perhaps he had come to murder me as you surmis...\n",
              "6740  Bruce listened to the wind. It seemed to rise ...  ...  bruce listened to the wind it seemed to rise h...\n",
              "6741  Swift fleeting batlike shapes would appear\\nfr...  ...  swift fleeting batlike shapes would appear fro...\n",
              "6742  Mildume shrugged. There was an abrupt, high-pi...  ...  mildume shrugged there was an abrupt high pitc...\n",
              "\n",
              "[6743 rows x 4 columns]"
            ]
          },
          "metadata": {},
          "execution_count": 10
        }
      ]
    },
    {
      "cell_type": "code",
      "metadata": {
        "colab": {
          "base_uri": "https://localhost:8080/"
        },
        "id": "O3jX0IAT8wP6",
        "outputId": "b6c02bbb-efb7-4e22-9cf5-8b3ba6b62aa1"
      },
      "source": [
        "df['genre'].value_counts()\n"
      ],
      "execution_count": null,
      "outputs": [
        {
          "output_type": "execute_result",
          "data": {
            "text/plain": [
              "1    4695\n",
              "2    1328\n",
              "3     386\n",
              "0     334\n",
              "Name: genre, dtype: int64"
            ]
          },
          "metadata": {},
          "execution_count": 11
        }
      ]
    },
    {
      "cell_type": "code",
      "metadata": {
        "colab": {
          "base_uri": "https://localhost:8080/"
        },
        "id": "N53zBx_oUTNV",
        "outputId": "d4de29cd-5bf3-41ca-973d-dcc325b9aa13"
      },
      "source": [
        "nltk.download('stopwords')\n"
      ],
      "execution_count": null,
      "outputs": [
        {
          "output_type": "stream",
          "name": "stdout",
          "text": [
            "[nltk_data] Downloading package stopwords to /root/nltk_data...\n",
            "[nltk_data]   Package stopwords is already up-to-date!\n"
          ]
        },
        {
          "output_type": "execute_result",
          "data": {
            "text/plain": [
              "True"
            ]
          },
          "metadata": {},
          "execution_count": 12
        }
      ]
    },
    {
      "cell_type": "code",
      "metadata": {
        "id": "0gLUeUUDaj1d"
      },
      "source": [
        "stop_words = set(stopwords.words('english'))\n",
        "def no_stopword(text):\n",
        "  no_stopword_list=[]\n",
        "  for word in text.split():\n",
        "    if word not in stop_words:\n",
        "      no_stopword_list.append(word)\n",
        "  return ' '.join(no_stopword_list)\n",
        "df['clean_plot'] = df['clean_plot'].apply(lambda x: no_stopword(x))\n",
        "\n",
        "\n",
        "\n",
        "\n"
      ],
      "execution_count": null,
      "outputs": []
    },
    {
      "cell_type": "code",
      "metadata": {
        "id": "NphTAfoPSvG7"
      },
      "source": [
        "\n",
        "feature = df['genre']"
      ],
      "execution_count": null,
      "outputs": []
    },
    {
      "cell_type": "code",
      "metadata": {
        "id": "TmNrZWjWqJiX"
      },
      "source": [
        "from sklearn.linear_model import LogisticRegression\n",
        "from sklearn.metrics import f1_score"
      ],
      "execution_count": null,
      "outputs": []
    },
    {
      "cell_type": "code",
      "metadata": {
        "id": "4KvPY4LC2Shg"
      },
      "source": [
        "from sklearn.model_selection import train_test_split\n",
        "from sklearn.model_selection import StratifiedKFold"
      ],
      "execution_count": null,
      "outputs": []
    },
    {
      "cell_type": "code",
      "metadata": {
        "id": "gRq4H_kfpZfL"
      },
      "source": [
        "skf = StratifiedKFold(n_splits=5)"
      ],
      "execution_count": null,
      "outputs": []
    },
    {
      "cell_type": "code",
      "metadata": {
        "colab": {
          "base_uri": "https://localhost:8080/"
        },
        "id": "TOxNzbtBpcEL",
        "outputId": "75285947-e819-41ea-8bd3-a7bcfafecba0"
      },
      "source": [
        "X = df['clean_plot']\n",
        "y = feature\n",
        "scores = []\n",
        "for train_index, test_index in skf.split(X, y):\n",
        "    X_train, X_test = X[train_index], X[test_index]\n",
        "    y_train, y_test = y[train_index], y[test_index]\n",
        "    tfidf= TfidfVectorizer(max_df=0.50, max_features=5000)\n",
        "    xtrain_tfidf = tfidf.fit_transform(X_train)\n",
        "    xval_tfidf = tfidf.transform(X_test)\n",
        "    logisreg = LogisticRegression(class_weight='balanced',C=0.1)\n",
        "    # logisreg = GaussianNB()\n",
        "    #logisreg = MultinomialNB()\n",
        "    #logisreg = DecisionTreeClassifier()\n",
        "    logisreg.fit(xtrain_tfidf.toarray(),y_train)\n",
        "    ypredict=logisreg.predict(xval_tfidf.toarray())\n",
        "    macro_score=f1_score(y_test, ypredict, average=\"macro\")\n",
        "    scores.append(macro_score)\n",
        "print(scores)\n",
        "print(np.average(scores))"
      ],
      "execution_count": null,
      "outputs": [
        {
          "output_type": "stream",
          "name": "stdout",
          "text": [
            "[0.6994124521985624, 0.6991803957153165, 0.7271315322073606, 0.7168326701327998, 0.7017573092142686]\n",
            "0.7088628718936616\n"
          ]
        }
      ]
    },
    {
      "cell_type": "code",
      "metadata": {
        "id": "ZhsmJZtQpn7f"
      },
      "source": [
        "xtrain, xval, ytrain, yval = train_test_split(df['clean_plot'],feature, test_size=0.2, random_state=42,stratify=feature)\n"
      ],
      "execution_count": null,
      "outputs": []
    },
    {
      "cell_type": "code",
      "metadata": {
        "id": "-YCq858H2fQh"
      },
      "source": [
        "from sklearn.feature_extraction.text import TfidfVectorizer"
      ],
      "execution_count": null,
      "outputs": []
    },
    {
      "cell_type": "code",
      "metadata": {
        "id": "0b11vM7VU2Tn",
        "colab": {
          "base_uri": "https://localhost:8080/"
        },
        "outputId": "0c84d3b4-30c6-4b8c-a3c7-fa60894dc9ca"
      },
      "source": [
        "tfidf= TfidfVectorizer(max_df=0.5, max_features=5000)\n",
        "xtrain_tfidf = tfidf.fit_transform(xtrain)\n",
        "xval_tfidf = tfidf.transform(xval)\n",
        "print(xtrain_tfidf)\n",
        "\n"
      ],
      "execution_count": null,
      "outputs": [
        {
          "output_type": "stream",
          "name": "stdout",
          "text": [
            "  (0, 4496)\t0.037521308655100186\n",
            "  (0, 608)\t0.06637052958709648\n",
            "  (0, 4607)\t0.10369307620074732\n",
            "  (0, 4790)\t0.08202492666097595\n",
            "  (0, 3925)\t0.07150647805576649\n",
            "  (0, 3806)\t0.06119577309935585\n",
            "  (0, 4557)\t0.09032662839457829\n",
            "  (0, 2210)\t0.09949649614985864\n",
            "  (0, 4000)\t0.10369307620074732\n",
            "  (0, 4210)\t0.06684885315852516\n",
            "  (0, 489)\t0.08377753925169851\n",
            "  (0, 3293)\t0.08096354507367402\n",
            "  (0, 4974)\t0.07927384129009044\n",
            "  (0, 2177)\t0.06139515062588238\n",
            "  (0, 4624)\t0.04103927509646983\n",
            "  (0, 4269)\t0.09949649614985864\n",
            "  (0, 3816)\t0.03983089973423022\n",
            "  (0, 1112)\t0.07882495781329575\n",
            "  (0, 2821)\t0.051217060782257615\n",
            "  (0, 1986)\t0.1502687109759507\n",
            "  (0, 1320)\t0.0861300483436896\n",
            "  (0, 2060)\t0.05440572290263885\n",
            "  (0, 2474)\t0.06042444479123771\n",
            "  (0, 2281)\t0.07150647805576649\n",
            "  (0, 86)\t0.06927692669722466\n",
            "  :\t:\n",
            "  (5393, 2867)\t0.06263775927009972\n",
            "  (5393, 3835)\t0.06658549855684776\n",
            "  (5393, 164)\t0.046673845535678646\n",
            "  (5393, 4808)\t0.03857333737500646\n",
            "  (5393, 4602)\t0.05786934928316631\n",
            "  (5393, 2746)\t0.06374870189705051\n",
            "  (5393, 658)\t0.06860506878859017\n",
            "  (5393, 2002)\t0.06471069525219944\n",
            "  (5393, 3922)\t0.05847529651959713\n",
            "  (5393, 3496)\t0.07640699134137162\n",
            "  (5393, 2907)\t0.07226256945518782\n",
            "  (5393, 4677)\t0.05350349915802044\n",
            "  (5393, 2651)\t0.06398265942841731\n",
            "  (5393, 3117)\t0.05248342978004964\n",
            "  (5393, 2888)\t0.04109159729685058\n",
            "  (5393, 1640)\t0.06307089867196707\n",
            "  (5393, 2673)\t0.04183197922514119\n",
            "  (5393, 1363)\t0.06687664995207115\n",
            "  (5393, 1999)\t0.047654448231239724\n",
            "  (5393, 1940)\t0.043876964156605185\n",
            "  (5393, 3806)\t0.05496069663471645\n",
            "  (5393, 4210)\t0.06003779922608872\n",
            "  (5393, 2474)\t0.0542679569404336\n",
            "  (5393, 4951)\t0.06183204923086256\n",
            "  (5393, 1853)\t0.03853944014109536\n"
          ]
        }
      ]
    },
    {
      "cell_type": "code",
      "metadata": {
        "colab": {
          "base_uri": "https://localhost:8080/"
        },
        "id": "Te-Sl1jhx6zY",
        "outputId": "417cac26-d204-4677-f5fa-a8bcfde44600"
      },
      "source": [
        "from sklearn.naive_bayes import GaussianNB, MultinomialNB\n",
        "from sklearn.tree import DecisionTreeClassifier\n",
        "from sklearn.svm import SVC\n",
        "\n",
        "logisreg = LogisticRegression(class_weight='balanced', C=0.1)\n",
        "# logisreg = GaussianNB()\n",
        "#logisreg = MultinomialNB()\n",
        "# logisreg = DecisionTreeClassifier()\n",
        "# logisreg = SVC()\n",
        "logisreg.fit(xtrain_tfidf.toarray(),ytrain)\n",
        "yp=logisreg.predict(xtrain_tfidf.toarray())\n",
        "print(f1_score(ytrain, yp, average=\"macro\"))\n",
        "ypredict=logisreg.predict(xval_tfidf.toarray())\n",
        "macro_score=f1_score(yval, ypredict, average=\"macro\")\n",
        "macro_score\n"
      ],
      "execution_count": null,
      "outputs": [
        {
          "output_type": "stream",
          "name": "stdout",
          "text": [
            "0.8454783487804585\n"
          ]
        },
        {
          "output_type": "execute_result",
          "data": {
            "text/plain": [
              "0.7129307682243015"
            ]
          },
          "metadata": {},
          "execution_count": 68
        }
      ]
    },
    {
      "cell_type": "code",
      "metadata": {
        "id": "V1bxISvPmMpU"
      },
      "source": [
        "Xt_tfidf = tfidf.transform(Xt)\n",
        "model = logisreg"
      ],
      "execution_count": null,
      "outputs": []
    },
    {
      "cell_type": "code",
      "metadata": {
        "id": "wZHcryvfUiLn"
      },
      "source": [
        "# predict on the test data\n",
        "Y_test_pred = model.predict(Xt_tfidf)\n",
        "\n",
        "\n",
        "fout = open(\"out.csv\", \"w\")\n",
        "fout.write(\"Id,Y\\n\")\n",
        "for i, line in enumerate(Y_test_pred):\n",
        "    fout.write(\"%d,%d\\n\" % (i, line))\n",
        "fout.close()"
      ],
      "execution_count": null,
      "outputs": []
    },
    {
      "cell_type": "code",
      "metadata": {
        "id": "9DhVtXIvB1SJ"
      },
      "source": [
        "final_dict= {'plot':test_data['X'],\n",
        "             'genre': Y_test_pred}\n",
        "final_df = pd.DataFrame(final_dict)\n",
        "final_df['genre'].value_counts()\n",
        "final_df.to_csv('C:\\KDAG material\\plot-genre.csv')\n"
      ],
      "execution_count": null,
      "outputs": []
    }
  ]
}